{
  "nbformat": 4,
  "nbformat_minor": 0,
  "metadata": {
    "colab": {
      "name": "Pattern Assignment 1.ipynb",
      "provenance": []
    },
    "kernelspec": {
      "name": "python3",
      "display_name": "Python 3"
    },
    "language_info": {
      "name": "python"
    },
    "accelerator": "GPU"
  },
  "cells": [
    {
      "cell_type": "markdown",
      "source": [
        "**Loai Gamal 20180206**\n",
        "\n",
        "**Ahmed Kardy 20180018**"
      ],
      "metadata": {
        "id": "SjPYaB3fQwqJ"
      }
    },
    {
      "cell_type": "code",
      "execution_count": null,
      "metadata": {
        "id": "0mxXcS4VzSXQ"
      },
      "outputs": [],
      "source": [
        "from keras.datasets import mnist\n",
        "import numpy\n",
        "import PIL\n",
        "from sklearn.neighbors import KNeighborsClassifier"
      ]
    },
    {
      "cell_type": "code",
      "source": [
        "TrainingSamples = 10000\n",
        "TestingSamples = 1000"
      ],
      "metadata": {
        "id": "IvUqJbt5zZID"
      },
      "execution_count": null,
      "outputs": []
    },
    {
      "cell_type": "code",
      "source": [
        "def reformatImage(data):\n",
        "    height = 3\n",
        "    width = 3\n",
        "    blocks = []\n",
        "    for image in range(len(data)):\n",
        "        image = PIL.Image.fromarray(numpy.uint8(data[image]))\n",
        "        feature_vector = numpy.array(cropToBlocks(image, height, width))\n",
        "        blocks.append(feature_vector)\n",
        "    blocks = numpy.vstack(blocks)\n",
        "    return blocks"
      ],
      "metadata": {
        "id": "kbrwySQ3zbBB"
      },
      "execution_count": null,
      "outputs": []
    },
    {
      "cell_type": "code",
      "source": [
        "def cropToBlocks(image, height, width):\n",
        "    feature_vector = []\n",
        "    imgWidth, imgHeight = image.size\n",
        "    for i in range(imgWidth // width):\n",
        "        for j in range(imgHeight // height):\n",
        "            box = (j * height, i * width, (j + 1) * height, (i + 1) * width)\n",
        "            block = image.crop(box)\n",
        "            block = numpy.asarray(block)\n",
        "            centre_x, centre_y = calculateCentroid(block, width, height)\n",
        "            feature_vector.append(centre_x)\n",
        "            feature_vector.append(centre_y)\n",
        "    return feature_vector"
      ],
      "metadata": {
        "id": "ByZvSzBRzdQd"
      },
      "execution_count": null,
      "outputs": []
    },
    {
      "cell_type": "code",
      "source": [
        "def calculateCentroid(block, imageWidth, imageHeight):\n",
        "    centre_x = 0\n",
        "    centre_y = 0\n",
        "    pixels = 0\n",
        "    for i in range(imageWidth):\n",
        "        for j in range(imageHeight):\n",
        "            centre_x = centre_x + i * block[i][j]\n",
        "            centre_y = centre_y + j * block[i][j]\n",
        "            pixels = pixels + block[i][j]\n",
        "    centre_x = centre_x / pixels if pixels > 0 else 0\n",
        "    centre_y = centre_y / pixels if pixels > 0 else 0\n",
        "    return centre_x, centre_y"
      ],
      "metadata": {
        "id": "3z72VI6FzfoI"
      },
      "execution_count": null,
      "outputs": []
    },
    {
      "cell_type": "code",
      "source": [
        "(train_X, train_y), (test_X, test_y) = mnist.load_data()\n",
        "print('train_X: ' + str(train_X.shape))\n",
        "print('train_Y: ' + str(train_y.shape))\n",
        "print('test_X:  ' + str(test_X.shape))\n",
        "print('test_Y:  ' + str(test_y.shape))"
      ],
      "metadata": {
        "colab": {
          "base_uri": "https://localhost:8080/"
        },
        "id": "1wg5VlxNzih3",
        "outputId": "006658ad-86fb-448d-f8fc-c60c172aec10"
      },
      "execution_count": null,
      "outputs": [
        {
          "output_type": "stream",
          "name": "stdout",
          "text": [
            "Downloading data from https://storage.googleapis.com/tensorflow/tf-keras-datasets/mnist.npz\n",
            "11493376/11490434 [==============================] - 0s 0us/step\n",
            "11501568/11490434 [==============================] - 0s 0us/step\n",
            "train_X: (60000, 28, 28)\n",
            "train_Y: (60000,)\n",
            "test_X:  (10000, 28, 28)\n",
            "test_Y:  (10000,)\n"
          ]
        }
      ]
    },
    {
      "cell_type": "code",
      "source": [
        "# Use Matplotlib (don't ask)\n",
        "import matplotlib.pyplot as plt\n",
        "import random\n",
        "\n",
        "n = 10  # How many digits we will display\n",
        "\n",
        "plt.figure(figsize=(30, 10))\n",
        "for i in range(n):\n",
        "    \n",
        "    ax = plt.subplot(1, n, i + 1)\n",
        "    plt.imshow(train_X[i].reshape(28, 28))\n",
        "    plt.gray()\n",
        "    ax.get_xaxis().set_visible(False)\n",
        "    ax.get_yaxis().set_visible(False)\n",
        "\n",
        "plt.show()"
      ],
      "metadata": {
        "colab": {
          "base_uri": "https://localhost:8080/",
          "height": 150
        },
        "id": "jwZr2ParQVOj",
        "outputId": "6b111eaa-a19a-4924-dfa6-e2727c758250"
      },
      "execution_count": null,
      "outputs": [
        {
          "output_type": "display_data",
          "data": {
            "text/plain": [
              "<Figure size 2160x720 with 10 Axes>"
            ],
            "image/png": "[encoded data removed]"
          },
          "metadata": {
            "needs_background": "light"
          }
        }
      ]
    },
    {
      "cell_type": "code",
      "source": [
        "train_X = reformatImage(train_X[0:TrainingSamples])\n",
        "test_X = reformatImage(test_X[0:TestingSamples])\n",
        "\n",
        "train_Y = train_y[0:TrainingSamples]\n",
        "test_Y = test_y[0:TestingSamples]"
      ],
      "metadata": {
        "id": "4Gnc2Intzlox"
      },
      "execution_count": null,
      "outputs": []
    },
    {
      "cell_type": "code",
      "source": [
        "knn = KNeighborsClassifier(n_neighbors=1)\n",
        "knn.fit(train_X, train_Y)"
      ],
      "metadata": {
        "colab": {
          "base_uri": "https://localhost:8080/"
        },
        "id": "kYkIe2Qm0ft6",
        "outputId": "691d2a3a-c8e9-4720-fec1-f60fe4cde47f"
      },
      "execution_count": null,
      "outputs": [
        {
          "output_type": "execute_result",
          "data": {
            "text/plain": [
              "KNeighborsClassifier(n_neighbors=1)"
            ]
          },
          "metadata": {},
          "execution_count": 10
        }
      ]
    },
    {
      "cell_type": "code",
      "source": [
        "score = knn.score(test_X, test_Y)\n",
        "print(\"Accuracy = \", score * 100.0, \"%\")"
      ],
      "metadata": {
        "colab": {
          "base_uri": "https://localhost:8080/"
        },
        "id": "A4qpUIPk2lGu",
        "outputId": "db3a65eb-ac7d-492e-f8a8-5e94cf9559c4"
      },
      "execution_count": null,
      "outputs": [
        {
          "output_type": "stream",
          "name": "stdout",
          "text": [
            "Accuracy =  85.8 %\n"
          ]
        }
      ]
    },
    {
      "cell_type": "code",
      "source": [
        ""
      ],
      "metadata": {
        "id": "sZmrmeVP3pQ1"
      },
      "execution_count": null,
      "outputs": []
    }
  ]
}